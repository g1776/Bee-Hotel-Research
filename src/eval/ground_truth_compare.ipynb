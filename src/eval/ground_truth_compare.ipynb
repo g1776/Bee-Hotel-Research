{
 "cells": [
  {
   "attachments": {},
   "cell_type": "markdown",
   "metadata": {},
   "source": [
    "# Comparing logs against ground truth results"
   ]
  },
  {
   "attachments": {},
   "cell_type": "markdown",
   "metadata": {},
   "source": [
    "## Some questions:\n",
    "\n",
    "### Size\n",
    "- How many log entries are there?\n",
    "- How many ground truth entries are there?\n",
    "- How many bees are identified in the ground truth?\n",
    "- How many bees are identified in the log?\n",
    "\n",
    "### Relationship between log and ground truth\n",
    "- Do multiple log entries map to the same ground truth entry?\n",
    "- Do multiple ground truth entries map to the same log entry?\n",
    "\n",
    "### True and False Positives (TP & FP)\n",
    "- What is the True Positive (TP) and False Positive (FP) rates for logs?\n",
    "- Which type of event does the log have the highest TP rate (it is best at finding these)?\n",
    "- Which causes the most FPs?"
   ]
  },
  {
   "attachments": {},
   "cell_type": "markdown",
   "metadata": {},
   "source": [
    "## Helper Functions"
   ]
  },
  {
   "cell_type": "code",
   "execution_count": 41,
   "metadata": {},
   "outputs": [
    {
     "name": "stdout",
     "output_type": "stream",
     "text": [
      "[{'bee_id': 0, 'coords': [380, 202]}, {'bee_id': 1, 'coords': [274, 326]}, {'bee_id': 2, 'coords': [506, 142]}, {'bee_id': 3, 'coords': [330, 298]}, {'bee_id': 4, 'coords': [228, 212]}, {'bee_id': 5, 'coords': [448, 216]}, {'bee_id': 6, 'coords': [416, 126]}, {'bee_id': 7, 'coords': [148, 202]}, {'bee_id': 8, 'coords': [186, 288]}, {'bee_id': 9, 'coords': [292, 86]}, {'bee_id': 10, 'coords': [468, 284]}, {'bee_id': 11, 'coords': [438, 392]}, {'bee_id': 12, 'coords': [340, 128]}, {'bee_id': 13, 'coords': [402, 256]}, {'bee_id': 14, 'coords': [206, 162]}, {'bee_id': 15, 'coords': [318, 192]}, {'bee_id': 16, 'coords': [276, 154]}, {'bee_id': 17, 'coords': [254, 266]}, {'bee_id': 18, 'coords': [506, 316]}, {'bee_id': 19, 'coords': [530, 212]}, {'bee_id': 20, 'coords': [296, 404]}, {'bee_id': 21, 'coords': [388, 410]}, {'bee_id': 22, 'coords': [464, 94]}, {'bee_id': 23, 'coords': [436, 334]}, {'bee_id': 24, 'coords': [338, 368]}, {'bee_id': 25, 'coords': [406, 50]}, {'bee_id': 26, 'coords': [528, 268]}, {'bee_id': 27, 'coords': [482, 366]}, {'bee_id': 28, 'coords': [162, 334]}, {'bee_id': 29, 'coords': [344, 48]}, {'bee_id': 30, 'coords': [390, 310]}, {'bee_id': 31, 'coords': [154, 134]}, {'bee_id': 32, 'coords': [244, 392]}, {'bee_id': 33, 'coords': [218, 66]}, {'bee_id': 34, 'coords': [340, 246]}, {'bee_id': 35, 'coords': [246, 112]}, {'bee_id': 36, 'coords': [342, 430]}, {'bee_id': 37, 'coords': [200, 368]}]\n"
     ]
    }
   ],
   "source": [
    "from utils import load_log\n",
    "from typing import Tuple\n",
    "import pandas as pd\n",
    "import cv2\n",
    "\n",
    "def question_answer(question: str, answer: str) -> None:\n",
    "    \"\"\"Cleanly print a question and answer in 2 columns\"\"\"\n",
    "    print(f\"{question:40} {answer:40}\")\n",
    "\n",
    "def load_log_and_ground_truth(log_path: str, ground_truth_path: str) -> Tuple[pd.DataFrame, pd.DataFrame]:\n",
    "    # load the log\n",
    "    log = load_log(log_path)\n",
    "\n",
    "    # load the ground truth\n",
    "    ground_truth = pd.read_csv(ground_truth_path)\n",
    "    ground_truth.columns = [\n",
    "        \"Bee ID\",\n",
    "        \"Start Timestamp\",\n",
    "        \"End Timestamp\",\n",
    "        \"Event Type\",\n",
    "        \"Description\"\n",
    "    ]\n",
    "\n",
    "    # clean the ground truth\n",
    "    ground_truth[\"Start Timestamp\"] = pd.to_datetime(ground_truth[\"Start Timestamp\"].str.replace(\".\", \":\", regex=False))\n",
    "    ground_truth[\"End Timestamp\"] = pd.to_datetime(ground_truth[\"End Timestamp\"].str.replace(\".\", \":\", regex=False))\n",
    "\n",
    "    return (log, ground_truth)\n",
    "\n",
    "def draw_tubes_with_ids(video_path:str, log_path: str, radius: int=30) -> None:\n",
    "\n",
    "    # get tube hive coordinates\n",
    "    hive_coords = []\n",
    "    with open(log_path, \"r\") as f:\n",
    "        lines = f.readlines()\n",
    "        hive_coord_lines = [line for line in lines if \"Tube Hive Coords\" in line]\n",
    "        \n",
    "        for line in hive_coord_lines:\n",
    "            bee_id = int(line.split(\"=\")[1].split(\" \")[0])\n",
    "\n",
    "            coords_clean = line.split(\":\")[1].strip().replace(\"  \", \",\").replace(\" \", \",\")\n",
    "            coords = eval(coords_clean)\n",
    "            hive_coords.append({\n",
    "                \"bee_id\": bee_id,\n",
    "                \"coords\": coords\n",
    "            })\n",
    "\n",
    "    print(hive_coords)\n",
    "    \n",
    "    # cap = cv2.VideoCapture(video_path)\n",
    "    # cap.set(cv2.CAP_PROP_POS_FRAMES, 31-1) # the motion cap tool waits till the 31st frame\n",
    "    # res, frame = cap.read()\n",
    "\n",
    "\n",
    "draw_tubes_with_ids(\"adsasdas\", r\"C:\\Users\\grego\\OneDrive\\College\\Research\\Bee Hotel Research\\logs\\10am_log.txt\")"
   ]
  },
  {
   "attachments": {},
   "cell_type": "markdown",
   "metadata": {},
   "source": [
    "## Driver Code"
   ]
  },
  {
   "cell_type": "code",
   "execution_count": 37,
   "metadata": {},
   "outputs": [
    {
     "name": "stdout",
     "output_type": "stream",
     "text": [
      "Number of log entries                                                        3730\n",
      "Number of ground truth entries                                                205\n",
      "Number of unique Bee IDs in log                                                37\n",
      "Number of unique Bee IDs in ground truth                                       21\n"
     ]
    }
   ],
   "source": [
    "log, ground_truth = load_log_and_ground_truth(\n",
    "    r\"C:\\Users\\grego\\OneDrive\\College\\Research\\Bee Hotel Research\\logs\\10am_log.txt\",\n",
    "    r\"C:\\Users\\grego\\OneDrive\\College\\Research\\Bee Hotel Research\\data\\Ground Truth Bee Events 2022-05-14 10am.csv\"\n",
    ")\n",
    "\n",
    "question_answer(\"Number of log entries\", log.shape[0])\n",
    "question_answer(\"Number of ground truth entries\", ground_truth.shape[0])\n",
    "question_answer(\"Number of unique Bee IDs in log\", log[\"bee_id\"].nunique())\n",
    "question_answer(\"Number of unique Bee IDs in ground truth\", ground_truth[\"Bee ID\"].nunique())"
   ]
  },
  {
   "cell_type": "code",
   "execution_count": null,
   "metadata": {},
   "outputs": [],
   "source": []
  }
 ],
 "metadata": {
  "kernelspec": {
   "display_name": "venv",
   "language": "python",
   "name": "python3"
  },
  "language_info": {
   "codemirror_mode": {
    "name": "ipython",
    "version": 3
   },
   "file_extension": ".py",
   "mimetype": "text/x-python",
   "name": "python",
   "nbconvert_exporter": "python",
   "pygments_lexer": "ipython3",
   "version": "3.10.4"
  },
  "orig_nbformat": 4,
  "vscode": {
   "interpreter": {
    "hash": "9a4f4167c6eff9e482e829fecc9127bd9b83baa6cef45cc9bb25568fd2fc8f0d"
   }
  }
 },
 "nbformat": 4,
 "nbformat_minor": 2
}
